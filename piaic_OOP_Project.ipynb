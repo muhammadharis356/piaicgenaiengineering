{
  "nbformat": 4,
  "nbformat_minor": 0,
  "metadata": {
    "colab": {
      "provenance": []
    },
    "kernelspec": {
      "name": "python3",
      "display_name": "Python 3"
    },
    "language_info": {
      "name": "python"
    }
  },
  "cells": [
    {
      "cell_type": "code",
      "execution_count": 2,
      "metadata": {
        "id": "UiHvb92ONWyE"
      },
      "outputs": [],
      "source": [
        "class Student:\n",
        "    def __init__(self, name, scores):\n",
        "        self.name = name\n",
        "        self.scores = scores\n",
        "\n",
        "    def calculate_average(self):\n",
        "        return sum(self.scores) / len(self.scores) if self.scores else 0\n",
        "\n",
        "    def is_passing(self, passing_score=40):\n",
        "        return all(score >= passing_score for score in self.scores)\n"
      ]
    },
    {
      "cell_type": "code",
      "source": [
        "class PerformanceTracker:\n",
        "    def __init__(self):\n",
        "        self.students = {}\n",
        "\n",
        "    def add_student(self, name, scores):\n",
        "        self.students[name] = Student(name, scores)\n",
        "\n",
        "    def calculate_class_average(self):\n",
        "        if not self.students:\n",
        "            return 0\n",
        "        total = sum(student.calculate_average() for student in self.students.values())\n",
        "        return total / len(self.students)\n",
        "\n",
        "    def display_student_performance(self):\n",
        "        for name, student in self.students.items():\n",
        "            avg = student.calculate_average()\n",
        "            status = \"Passing\" if student.is_passing() else \"Needs Improvement\"\n",
        "            print(f\"{name}: Average = {avg:.2f}, Status = {status}\")\n"
      ],
      "metadata": {
        "id": "avfhCMIqPlQ8"
      },
      "execution_count": 3,
      "outputs": []
    },
    {
      "cell_type": "code",
      "source": [
        "tracker = PerformanceTracker()\n",
        "while True:\n",
        "    name = input(\"Enter student's name (or 'stop' to finish): \")\n",
        "    if name.lower() == 'stop':\n",
        "        break\n",
        "    try:\n",
        "        scores = [int(input(f\"Enter score for subject {i+1}: \")) for i in range(3)]\n",
        "        tracker.add_student(name, scores)\n",
        "    except ValueError:\n",
        "        print(\"Invalid input! Please enter numeric scores only.\")\n"
      ],
      "metadata": {
        "colab": {
          "base_uri": "https://localhost:8080/"
        },
        "id": "BV7rIJfmPoao",
        "outputId": "fae74657-0953-4339-886d-c26fe1c41862"
      },
      "execution_count": 4,
      "outputs": [
        {
          "name": "stdout",
          "output_type": "stream",
          "text": [
            "Enter student's name (or 'stop' to finish): haris\n",
            "Enter score for subject 1: 30\n",
            "Enter score for subject 2: 40\n",
            "Enter score for subject 3: 20\n",
            "Enter student's name (or 'stop' to finish): stop\n"
          ]
        }
      ]
    },
    {
      "cell_type": "code",
      "source": [
        "tracker.display_student_performance()\n",
        "print(f\"\\nClass Average Score: {tracker.calculate_class_average():.2f}\")\n"
      ],
      "metadata": {
        "colab": {
          "base_uri": "https://localhost:8080/"
        },
        "id": "6ZJBjkWoPves",
        "outputId": "97d78573-005d-4480-b1a9-5997c0e0e8d3"
      },
      "execution_count": 5,
      "outputs": [
        {
          "output_type": "stream",
          "name": "stdout",
          "text": [
            "haris: Average = 30.00, Status = Needs Improvement\n",
            "\n",
            "Class Average Score: 30.00\n"
          ]
        }
      ]
    }
  ]
}