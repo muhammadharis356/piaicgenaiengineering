{
  "nbformat": 4,
  "nbformat_minor": 0,
  "metadata": {
    "colab": {
      "provenance": []
    },
    "kernelspec": {
      "name": "python3",
      "display_name": "Python 3"
    },
    "language_info": {
      "name": "python"
    }
  },
  "cells": [
    {
      "cell_type": "code",
      "execution_count": 1,
      "metadata": {
        "colab": {
          "base_uri": "https://localhost:8080/"
        },
        "id": "UiHvb92ONWyE",
        "outputId": "cd11260b-f093-4c46-c7e2-684b89c4985c"
      },
      "outputs": [
        {
          "output_type": "stream",
          "name": "stdout",
          "text": [
            "Please enter the student's name (or type 'stop' to finish): Muhammad Haris\n",
            "Please enter the student's name (or type 'stop' to finish): Ahmed\n",
            "Please enter the student's name (or type 'stop' to finish): Ali\n",
            "Please enter the student's name (or type 'stop' to finish): Aslam\n",
            "Please enter the student's name (or type 'stop' to finish): Ali\n",
            "This name is already in the list.\n",
            "Please enter the student's name (or type 'stop' to finish): Kaiser\n",
            "Please enter the student's name (or type 'stop' to finish): stop\n",
            "\n",
            "Complete List of Students (Tuples):\n",
            "[(1, 'Muhammad Haris'), (2, 'Ahmed'), (3, 'Ali'), (4, 'Aslam'), (5, 'Kaiser')]\n",
            "\n",
            "List of Students with IDs:\n",
            "ID: 1, Name: Muhammad Haris\n",
            "ID: 2, Name: Ahmed\n",
            "ID: 3, Name: Ali\n",
            "ID: 4, Name: Aslam\n",
            "ID: 5, Name: Kaiser\n",
            "\n",
            "Total number of students: 5\n",
            "Total length of all student names combined: 33\n",
            "The student with the longest name is: Muhammad Haris\n",
            "The student with the shortest name is: Ali\n"
          ]
        }
      ],
      "source": [
        "def manage_student_database():\n",
        "    students = []\n",
        "    student_id = 1\n",
        "    while True:\n",
        "        name = input(\"Please enter the student's name (or type 'stop' to finish): \")\n",
        "\n",
        "        if name.lower() == 'stop':\n",
        "            break\n",
        "\n",
        "        if any(student[1] == name for student in students):\n",
        "            print(\"This name is already in the list.\")\n",
        "        else:\n",
        "            students.append((student_id, name))\n",
        "            student_id += 1\n",
        "    print(\"\\nComplete List of Students (Tuples):\")\n",
        "    print(students)\n",
        "    print(\"\\nList of Students with IDs:\")\n",
        "    for student in students:\n",
        "        print(f\"ID: {student[0]}, Name: {student[1]}\")\n",
        "    total_students = len(students)\n",
        "    total_length = sum(len(student[1]) for student in students)\n",
        "\n",
        "    longest_student = max(students, key=lambda student: len(student[1]))\n",
        "    shortest_student = min(students, key=lambda student: len(student[1]))\n",
        "\n",
        "    print(f\"\\nTotal number of students: {total_students}\")\n",
        "    print(f\"Total length of all student names combined: {total_length}\")\n",
        "    print(f\"The student with the longest name is: {longest_student[1]}\")\n",
        "    print(f\"The student with the shortest name is: {shortest_student[1]}\")\n",
        "if __name__ == \"__main__\":\n",
        "    manage_student_database()\n"
      ]
    }
  ]
}